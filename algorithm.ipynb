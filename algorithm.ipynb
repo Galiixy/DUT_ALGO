{
 "cells": [
  {
   "cell_type": "code",
   "execution_count": 3,
   "metadata": {},
   "outputs": [],
   "source": [
    "import math \n",
    "import copy\n",
    "import numpy as np\n"
   ]
  },
  {
   "cell_type": "code",
   "execution_count": 4,
   "metadata": {},
   "outputs": [],
   "source": [
    "def calcul_distance(first_point_value, second_point_value):\n",
    "    p0 = first_point_value\n",
    "    p1 = second_point_value\n",
    "    res = math.sqrt((p0[0] - p1[0])**2 + (p0[1] - p1[1])**2)\n",
    "    return res"
   ]
  },
  {
   "cell_type": "code",
   "execution_count": 5,
   "metadata": {},
   "outputs": [],
   "source": [
    "def calcul_circuit(list_of_points, cycle):\n",
    "    \"\"\"\n",
    "        Circuit length calculation\n",
    "        Cycle: Order of the point in the alogorithm (name of the points)\n",
    "        list_of_points: dict of all the point, the key is the label, the value is a tuple (x, y)\n",
    "        return a float, a circuit length\n",
    "    \"\"\"\n",
    "    distance = 0\n",
    "    i = 0\n",
    "    for i in range (len(cycle)):\n",
    "        \"si i est a la derniere case de cycle\"\n",
    "        if (i == (len(cycle) - 1)):\n",
    "            distance +=calcul_distance(list_of_points[cycle[i]], list_of_points[cycle[0]])\n",
    "        else:\n",
    "            distance +=calcul_distance(list_of_points[cycle[i]], list_of_points[cycle[i + 1]])\n",
    "        return distance\n"
   ]
  },
  {
   "cell_type": "code",
   "execution_count": 6,
   "metadata": {},
   "outputs": [],
   "source": [
    "#tri efficace (Quick sort)\n",
    "def pivot(tab,cpt_debut,cpt_fin): \n",
    "    index = cpt_debut-1\n",
    "    pivot = tab[cpt_fin] \n",
    "    value=0\n",
    "    for i in range(cpt_fin , cpt_debut):\n",
    "        if   tab[i] <= pivot:       \n",
    "            index = index+1 \n",
    "            value = tab[i]\n",
    "            tab[i]= tab[index]\n",
    "            tab[index]=value\n",
    "    value= tab[index+1]\n",
    "    tab[index+1]=tab[cpt_fin]\n",
    "    tab[cpt_fin] = tab[index+1] \n",
    "    return (index+1) \n",
    "  \n",
    "# Function to do Quick sort \n",
    "def quickSort(tab,cpt_debut,cpt_fin): \n",
    "    if (cpt_debut < cpt_fin): \n",
    "        v_pivot = pivot(tab,cpt_debut,cpt_fin)\n",
    "        quickSort(tab,cpt_debut,v_pivot-1) \n",
    "        quickSort(tab,v_pivot+1+1,cpt_fin)"
   ]
  },
  {
   "cell_type": "code",
   "execution_count": 74,
   "metadata": {},
   "outputs": [],
   "source": [
    "def great_algorithm(first_point, list_of_points):\n",
    "    \"\"\"\n",
    "        Implement a good algorithm to resolve the case.\n",
    "        first_point: label of the first point\n",
    "        list_of_points: dict of all the point, the key is the label, the value is a tuple (x, y)\n",
    "        return a list of point to visit, starting from first_point.\n",
    "    \"\"\"\n",
    "    n=len(list_of_points)\n",
    "    mat = np.zeros((n,n))\n",
    "    print(mat)\n",
    "    p=list_of_points[first_point]\n",
    "    points = copy.copy(list_of_points)\n",
    "   \n",
    "    del points[first_point]\n",
    "    \n",
    "    i=0\n",
    "\n",
    "    mat[i][i] = first_point\n",
    "\n",
    "    #for j in range(0,len(list_of_points)):\n",
    "    for point in points:\n",
    "        print(i)\n",
    "        print(point-i)\n",
    "        print(points[point])\n",
    "        print(p)\n",
    "        mat[i][point-i] = (points[point],calcul_distance(p, points[point]))\n",
    "        print(mat)\n",
    "    points[n+i]=p\n",
    "    p=mat[i][i+1][0]\n",
    "    del points[i+1]\n",
    "    i=i+1\n",
    "\n",
    "    return list(list_of_points.keys())"
   ]
  },
  {
   "cell_type": "code",
   "execution_count": 75,
   "metadata": {},
   "outputs": [
    {
     "name": "stdout",
     "output_type": "stream",
     "text": [
      "[[0. 0. 0. 0. 0. 0. 0. 0. 0. 0.]\n",
      " [0. 0. 0. 0. 0. 0. 0. 0. 0. 0.]\n",
      " [0. 0. 0. 0. 0. 0. 0. 0. 0. 0.]\n",
      " [0. 0. 0. 0. 0. 0. 0. 0. 0. 0.]\n",
      " [0. 0. 0. 0. 0. 0. 0. 0. 0. 0.]\n",
      " [0. 0. 0. 0. 0. 0. 0. 0. 0. 0.]\n",
      " [0. 0. 0. 0. 0. 0. 0. 0. 0. 0.]\n",
      " [0. 0. 0. 0. 0. 0. 0. 0. 0. 0.]\n",
      " [0. 0. 0. 0. 0. 0. 0. 0. 0. 0.]\n",
      " [0. 0. 0. 0. 0. 0. 0. 0. 0. 0.]]\n",
      "0\n",
      "1\n",
      "(2, 5)\n",
      "(1, 3)\n"
     ]
    },
    {
     "ename": "ValueError",
     "evalue": "setting an array element with a sequence.",
     "output_type": "error",
     "traceback": [
      "\u001b[1;31m---------------------------------------------------------------------------\u001b[0m",
      "\u001b[1;31mValueError\u001b[0m                                Traceback (most recent call last)",
      "\u001b[1;32m<ipython-input-75-2c6393001d3e>\u001b[0m in \u001b[0;36m<module>\u001b[1;34m\u001b[0m\n\u001b[0;32m     13\u001b[0m     }\n\u001b[0;32m     14\u001b[0m     \u001b[1;32mreturn\u001b[0m \u001b[0mlist_of_points\u001b[0m\u001b[1;33m\u001b[0m\u001b[1;33m\u001b[0m\u001b[0m\n\u001b[1;32m---> 15\u001b[1;33m \u001b[0mgreat_algorithm\u001b[0m\u001b[1;33m(\u001b[0m\u001b[1;36m0\u001b[0m\u001b[1;33m,\u001b[0m\u001b[0mget_small_list_of_points\u001b[0m\u001b[1;33m(\u001b[0m\u001b[1;33m)\u001b[0m\u001b[1;33m)\u001b[0m\u001b[1;33m\u001b[0m\u001b[1;33m\u001b[0m\u001b[0m\n\u001b[0m",
      "\u001b[1;32m<ipython-input-74-427d8c333a6c>\u001b[0m in \u001b[0;36mgreat_algorithm\u001b[1;34m(first_point, list_of_points)\u001b[0m\n\u001b[0;32m     24\u001b[0m         \u001b[0mprint\u001b[0m\u001b[1;33m(\u001b[0m\u001b[0mpoints\u001b[0m\u001b[1;33m[\u001b[0m\u001b[0mpoint\u001b[0m\u001b[1;33m]\u001b[0m\u001b[1;33m)\u001b[0m\u001b[1;33m\u001b[0m\u001b[1;33m\u001b[0m\u001b[0m\n\u001b[0;32m     25\u001b[0m         \u001b[0mprint\u001b[0m\u001b[1;33m(\u001b[0m\u001b[0mp\u001b[0m\u001b[1;33m)\u001b[0m\u001b[1;33m\u001b[0m\u001b[1;33m\u001b[0m\u001b[0m\n\u001b[1;32m---> 26\u001b[1;33m         \u001b[0mmat\u001b[0m\u001b[1;33m[\u001b[0m\u001b[0mi\u001b[0m\u001b[1;33m]\u001b[0m\u001b[1;33m[\u001b[0m\u001b[0mpoint\u001b[0m\u001b[1;33m-\u001b[0m\u001b[0mi\u001b[0m\u001b[1;33m]\u001b[0m \u001b[1;33m=\u001b[0m \u001b[1;33m(\u001b[0m\u001b[0mpoints\u001b[0m\u001b[1;33m[\u001b[0m\u001b[0mpoint\u001b[0m\u001b[1;33m]\u001b[0m\u001b[1;33m,\u001b[0m\u001b[0mcalcul_distance\u001b[0m\u001b[1;33m(\u001b[0m\u001b[0mp\u001b[0m\u001b[1;33m,\u001b[0m \u001b[0mpoints\u001b[0m\u001b[1;33m[\u001b[0m\u001b[0mpoint\u001b[0m\u001b[1;33m]\u001b[0m\u001b[1;33m)\u001b[0m\u001b[1;33m)\u001b[0m\u001b[1;33m\u001b[0m\u001b[1;33m\u001b[0m\u001b[0m\n\u001b[0m\u001b[0;32m     27\u001b[0m         \u001b[0mprint\u001b[0m\u001b[1;33m(\u001b[0m\u001b[0mmat\u001b[0m\u001b[1;33m)\u001b[0m\u001b[1;33m\u001b[0m\u001b[1;33m\u001b[0m\u001b[0m\n\u001b[0;32m     28\u001b[0m     \u001b[0mpoints\u001b[0m\u001b[1;33m[\u001b[0m\u001b[0mn\u001b[0m\u001b[1;33m+\u001b[0m\u001b[0mi\u001b[0m\u001b[1;33m]\u001b[0m\u001b[1;33m=\u001b[0m\u001b[0mp\u001b[0m\u001b[1;33m\u001b[0m\u001b[1;33m\u001b[0m\u001b[0m\n",
      "\u001b[1;31mValueError\u001b[0m: setting an array element with a sequence."
     ]
    }
   ],
   "source": [
    "def get_small_list_of_points():\n",
    "    list_of_points = {\n",
    "        0: (1, 3),\n",
    "        1: (2, 5),\n",
    "        2: (0, 6),\n",
    "        3: (1, 7),\n",
    "        4: (5, 1),\n",
    "        5: (5, 5),\n",
    "        6: (6, 3),\n",
    "        7: (4, 4),\n",
    "        8: (7, 0),\n",
    "        9: (6, 6)\n",
    "    }\n",
    "    return list_of_points\n",
    "great_algorithm(0,get_small_list_of_points())"
   ]
  },
  {
   "cell_type": "code",
   "execution_count": null,
   "metadata": {},
   "outputs": [],
   "source": []
  }
 ],
 "metadata": {
  "kernelspec": {
   "display_name": "Python 3",
   "language": "python",
   "name": "python3"
  },
  "language_info": {
   "codemirror_mode": {
    "name": "ipython",
    "version": 3
   },
   "file_extension": ".py",
   "mimetype": "text/x-python",
   "name": "python",
   "nbconvert_exporter": "python",
   "pygments_lexer": "ipython3",
   "version": "3.7.4"
  }
 },
 "nbformat": 4,
 "nbformat_minor": 2
}
