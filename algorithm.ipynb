{
 "cells": [
  {
   "cell_type": "code",
   "execution_count": 19,
   "metadata": {},
   "outputs": [],
   "source": [
    "import math \n",
    "import copy\n",
    "import numpy as np\n"
   ]
  },
  {
   "cell_type": "code",
   "execution_count": 8,
   "metadata": {},
   "outputs": [],
   "source": [
    "def calcul_distance(first_point_value, second_point_value):\n",
    "    p0 = first_point_value\n",
    "    p1 = second_point_value\n",
    "    res = math.sqrt((p0[0] - p1[0])**2 + (p0[1] - p1[1])**2)\n",
    "    return res"
   ]
  },
  {
   "cell_type": "code",
   "execution_count": 9,
   "metadata": {},
   "outputs": [],
   "source": [
    "def calcul_circuit(list_of_points, cycle):\n",
    "    \"\"\"\n",
    "        Circuit length calculation\n",
    "        Cycle: Order of the point in the alogorithm (name of the points)\n",
    "        list_of_points: dict of all the point, the key is the label, the value is a tuple (x, y)\n",
    "        return a float, a circuit length\n",
    "    \"\"\"\n",
    "    distance = 0\n",
    "    i = 0\n",
    "    for i in range (len(cycle)):\n",
    "        \"si i est a la derniere case de cycle\"\n",
    "        if (i == (len(cycle) - 1)):\n",
    "            distance +=calcul_distance(list_of_points[cycle[i]], list_of_points[cycle[0]])\n",
    "        else:\n",
    "            distance +=calcul_distance(list_of_points[cycle[i]], list_of_points[cycle[i + 1]])\n",
    "        return distance\n"
   ]
  },
  {
   "cell_type": "code",
   "execution_count": 44,
   "metadata": {},
   "outputs": [],
   "source": [
    "#tri efficace (Quick sort)\n",
    "def pivot(tab,cpt_debut,cpt_fin): \n",
    "    index = cpt_debut-1\n",
    "    pivot = tab[cpt_fin] \n",
    "    value=0\n",
    "    for i in range(cpt_fin , cpt_debut):\n",
    "        if   tab[i] <= pivot:       \n",
    "            index = index+1 \n",
    "            value = tab[i]\n",
    "            tab[i]= tab[index]\n",
    "            tab[index]=value\n",
    "    value= tab[index+1]\n",
    "    tab[index+1]=tab[cpt_fin]\n",
    "    tab[cpt_fin] = tab[index+1] \n",
    "    return (index+1) \n",
    "  \n",
    "# Function to do Quick sort \n",
    "def quickSort(tab,cpt_debut,cpt_fin): \n",
    "    if (cpt_debut < cpt_fin): \n",
    "        v_pivot = pivot(tab,cpt_debut,cpt_fin)\n",
    "        quickSort(tab,cpt_debut,v_pivot-1) \n",
    "        quickSort(tab,v_pivot+1+1,cpt_fin)\n",
    "            \n",
    "        "
   ]
  },
  {
   "cell_type": "code",
   "execution_count": 57,
   "metadata": {},
   "outputs": [],
   "source": [
    "def get_MatriceDistance(first_point, list_of_points, matrice_distance, longueur):\n",
    "     #declaration\n",
    "    matrice_point=[0]*(longueur) #matrice des coordonnees des points, cela sert a la suppression\n",
    "    \n",
    "    pointReference=list_of_points[first_point]\n",
    "    points = copy.copy(list_of_points)\n",
    "   \n",
    "    del points[first_point] #on supprime le point de reference du tableau de points\n",
    "    matrice_distance[0][0] = first_point\n",
    "    \n",
    "    #Remplissage de la matrice des distances \n",
    "    for cpt_ligne in range(longueur): # print(matrice_point)\n",
    "        matrice_point[0]= list_of_points[cpt_ligne]\n",
    "        matrice_distance[cpt_ligne][0] = cpt_ligne\n",
    "        cpt_colonne = 1\n",
    "        for index_point in points:\n",
    "            matrice_distance[cpt_ligne][cpt_colonne] = (calcul_distance(pointReference, points[index_point]))\n",
    "            matrice_point[cpt_colonne]= points[index_point]\n",
    "            cpt_colonne = cpt_colonne + 1\n",
    "        points[longueur+cpt_ligne]=pointReference\n",
    "        pointReference=matrice_point[1]\n",
    "        del points[cpt_ligne+1]\n",
    "        \n",
    "    return matrice_distance"
   ]
  },
  {
   "cell_type": "code",
   "execution_count": 58,
   "metadata": {},
   "outputs": [],
   "source": [
    "def great_algorithm(first_point, list_of_points):\n",
    "    \"\"\"\n",
    "        Implement a good algorithm to resolve the case.\n",
    "        first_point: label of the first point\n",
    "        list_of_points: dict of all the point, the key is the label, the value is a tuple (x, y)\n",
    "        return a list of point to visit, starting from first_point.\n",
    "    \"\"\"\n",
    "    #declaration\n",
    "    longueur=len(list_of_points)\n",
    "    matrice_distance = np.zeros((longueur,longueur))\n",
    "    \n",
    "    matrice_distance = get_MatriceDistance(first_point, list_of_points, matrice_distance, longueur)\n",
    "\n",
    "    return list(list_of_points.keys())"
   ]
  },
  {
   "cell_type": "code",
   "execution_count": 59,
   "metadata": {},
   "outputs": [
    {
     "data": {
      "text/plain": [
       "[0, 1, 2, 3]"
      ]
     },
     "execution_count": 59,
     "metadata": {},
     "output_type": "execute_result"
    }
   ],
   "source": [
    "def get_small_list_of_points():\n",
    "    list_of_points = {\n",
    "        0: (1, 3),\n",
    "        1: (5,5),\n",
    "        2: (0, 6),\n",
    "        3: (1,1),\n",
    "    }\n",
    "    return list_of_points\n",
    "great_algorithm(0,get_small_list_of_points())"
   ]
  },
  {
   "cell_type": "code",
   "execution_count": 40,
   "metadata": {},
   "outputs": [
    {
     "name": "stdout",
     "output_type": "stream",
     "text": [
      "2.23606797749979\n"
     ]
    }
   ],
   "source": []
  },
  {
   "cell_type": "code",
   "execution_count": 41,
   "metadata": {},
   "outputs": [
    {
     "name": "stdout",
     "output_type": "stream",
     "text": [
      "2.23606797749979\n"
     ]
    }
   ],
   "source": []
  },
  {
   "cell_type": "code",
   "execution_count": null,
   "metadata": {},
   "outputs": [],
   "source": []
  }
 ],
 "metadata": {
  "kernelspec": {
   "display_name": "Python 3",
   "language": "python",
   "name": "python3"
  },
  "language_info": {
   "codemirror_mode": {
    "name": "ipython",
    "version": 3
   },
   "file_extension": ".py",
   "mimetype": "text/x-python",
   "name": "python",
   "nbconvert_exporter": "python",
   "pygments_lexer": "ipython3",
   "version": "3.6.4"
  }
 },
 "nbformat": 4,
 "nbformat_minor": 2
}
