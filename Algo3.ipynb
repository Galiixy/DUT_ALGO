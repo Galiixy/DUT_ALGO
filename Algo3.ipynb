{
 "cells": [
  {
   "cell_type": "markdown",
   "metadata": {},
   "source": [
    "# Librairies"
   ]
  },
  {
   "cell_type": "code",
   "execution_count": 34,
   "metadata": {},
   "outputs": [],
   "source": [
    "import math \n",
    "import copy\n",
    "import numpy as np\n",
    "import itertools"
   ]
  },
  {
   "cell_type": "markdown",
   "metadata": {},
   "source": [
    "# Fonctions Utiles"
   ]
  },
  {
   "cell_type": "markdown",
   "metadata": {},
   "source": [
    "### Calcul de distance \n",
    "        Calcul de distance entre deux points. \n",
    "        return a float"
   ]
  },
  {
   "cell_type": "code",
   "execution_count": 2,
   "metadata": {},
   "outputs": [],
   "source": [
    "def calcul_distance(first_point_value, second_point_value):\n",
    "    p0 = first_point_value\n",
    "    p1 = second_point_value\n",
    "    res = math.sqrt((p0[0] - p1[0])**2 + (p0[1] - p1[1])**2)\n",
    "    return res"
   ]
  },
  {
   "cell_type": "markdown",
   "metadata": {},
   "source": [
    "### Circuit length calculation\n",
    "        Cycle: Order of the point in the alogorithm (index of the points)\n",
    "        list_of_points: dict of all the point, the key is the label, the value is a tuple (x, y)\n",
    "        return a float, a circuit length"
   ]
  },
  {
   "cell_type": "code",
   "execution_count": 90,
   "metadata": {},
   "outputs": [],
   "source": [
    "def calcul_circuit(list_of_points, cycle):\n",
    "    distance = 0\n",
    "    i = 0\n",
    "    for i in range (len(cycle)):\n",
    "        \"si i est a la derniere case de cycle\"\n",
    "        if (i == (len(cycle) - 1)):\n",
    "            distance +=calcul_distance(list_of_points[cycle[i]], list_of_points[cycle[0]])\n",
    "        else:\n",
    "            distance +=calcul_distance(list_of_points[cycle[i]], list_of_points[cycle[i + 1]])\n",
    "        return distance"
   ]
  },
  {
   "cell_type": "markdown",
   "metadata": {},
   "source": [
    "# Algorithme 3"
   ]
  },
  {
   "cell_type": "code",
   "execution_count": 121,
   "metadata": {},
   "outputs": [],
   "source": [
    "def optimal_algorithm(first_point, list_of_points):\n",
    "    \"\"\"\n",
    "        Implement an optimal algorithm. This solution is the best, but it is slow\n",
    "        first_point: label of the first point\n",
    "        list_of_points: dict of all the point, the key is the label, the value is a tuple (x, y)\n",
    "        return a list of point to visit, starting from first_point.\n",
    "    \"\"\"\n",
    "    distance_circuit = 10000\n",
    "\n",
    "    \"\"\"pour chaque permutation de circuit (test de circuit)\n",
    "    #     si le calcul_circuit(circuit) <= distance_circuit\n",
    "    #         distance_circuit = calcul_circuit(circuit)\n",
    "    #         circuit_min = circuit\n",
    "    \"\"\"\n",
    "    circuit= copy.copy(list_of_points)\n",
    "    \n",
    "  \n",
    "    \"On retire le premier point de la permutation\"\n",
    "    first_point_Coord = circuit[0]\n",
    "    print(circuit)\n",
    "    del circuit[0]\n",
    "    print(circuit)\n",
    "    \n",
    "    permutations=list(itertools.permutations(circuit)) # calcule toutes les possibilites de circuit\n",
    "\n",
    "    for circuit_permute in permutations:\n",
    "        circuit_permute=(first_point,) + circuit_permute #on ajoute le 1er point au circuit\n",
    "        if(calcul_circuit(list_of_points,circuit_permute)<=distance_circuit):\n",
    "            distance_circuit =calcul_circuit(list_of_points,circuit_permute)\n",
    "            circuitOptimal=circuit_permute\n",
    "    print(circuitOptimal)\n",
    "    return list(list_of_points.keys())"
   ]
  },
  {
   "cell_type": "markdown",
   "metadata": {},
   "source": [
    "# Essais"
   ]
  },
  {
   "cell_type": "code",
   "execution_count": 122,
   "metadata": {},
   "outputs": [],
   "source": [
    "def get_small_list_of_points():\n",
    "    list_of_points = {\n",
    "        0: (1, 3),\n",
    "        1: (2, 5),\n",
    "        2: (0, 6),\n",
    "        3: (1, 7),\n",
    "        4: (5,5), \n",
    "    }\n",
    "    return list_of_points"
   ]
  },
  {
   "cell_type": "code",
   "execution_count": 123,
   "metadata": {},
   "outputs": [],
   "source": [
    "def test_small_optimal_algorithm():\n",
    "    list_of_points = get_small_list_of_points()\n",
    "\n",
    "    first_point = 0\n",
    "    result = optimal_algorithm(first_point, list_of_points)\n",
    "    print(result)\n",
    "    assert len(result) == 5\n",
    "    assert result[0] == first_point"
   ]
  },
  {
   "cell_type": "code",
   "execution_count": 124,
   "metadata": {},
   "outputs": [
    {
     "name": "stdout",
     "output_type": "stream",
     "text": [
      "{0: (1, 3), 1: (2, 5), 2: (0, 6), 3: (1, 7), 4: (5, 5)}\n",
      "{1: (2, 5), 2: (0, 6), 3: (1, 7), 4: (5, 5)}\n",
      "(0, 1, 4, 3, 2)\n",
      "[0, 1, 2, 3, 4]\n"
     ]
    }
   ],
   "source": [
    "test_small_optimal_algorithm()"
   ]
  },
  {
   "cell_type": "code",
   "execution_count": null,
   "metadata": {},
   "outputs": [],
   "source": []
  },
  {
   "cell_type": "code",
   "execution_count": null,
   "metadata": {},
   "outputs": [],
   "source": []
  }
 ],
 "metadata": {
  "kernelspec": {
   "display_name": "Python 3",
   "language": "python",
   "name": "python3"
  },
  "language_info": {
   "codemirror_mode": {
    "name": "ipython",
    "version": 3
   },
   "file_extension": ".py",
   "mimetype": "text/x-python",
   "name": "python",
   "nbconvert_exporter": "python",
   "pygments_lexer": "ipython3",
   "version": "3.7.4"
  }
 },
 "nbformat": 4,
 "nbformat_minor": 2
}
