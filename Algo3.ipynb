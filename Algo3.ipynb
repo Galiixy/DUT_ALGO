{
 "cells": [
  {
   "cell_type": "markdown",
   "metadata": {},
   "source": [
    "# Librairies"
   ]
  },
  {
   "cell_type": "code",
   "execution_count": 6,
   "metadata": {},
   "outputs": [],
   "source": [
    "import math \n",
    "import copy\n",
    "import numpy as np\n",
    "import itertools"
   ]
  },
  {
   "cell_type": "markdown",
   "metadata": {},
   "source": [
    "# Fonctions Utiles"
   ]
  },
  {
   "cell_type": "markdown",
   "metadata": {},
   "source": [
    "### Calcul de distance \n",
    "        Calcul de distance entre deux points. \n",
    "        return a float"
   ]
  },
  {
   "cell_type": "code",
   "execution_count": 7,
   "metadata": {},
   "outputs": [],
   "source": [
    "def calcul_distance(first_point_value, second_point_value):\n",
    "    p0 = first_point_value\n",
    "    p1 = second_point_value\n",
    "    res = math.sqrt((p0[0] - p1[0])**2 + (p0[1] - p1[1])**2)\n",
    "    return res"
   ]
  },
  {
   "cell_type": "markdown",
   "metadata": {},
   "source": [
    "### Circuit length calculation\n",
    "        Cycle: Order of the point in the alogorithm (index of the points)\n",
    "        list_of_points: dict of all the point, the key is the label, the value is a tuple (x, y)\n",
    "        return a float, a circuit length"
   ]
  },
  {
   "cell_type": "code",
   "execution_count": 8,
   "metadata": {},
   "outputs": [],
   "source": [
    "def calcul_circuit(list_of_points, cycle):\n",
    "    distance = 0\n",
    "    i = 0\n",
    "    for i in range (len(cycle)):\n",
    "        \"si i est a la derniere case de cycle\"\n",
    "        if (i == (len(cycle) - 1)):\n",
    "            distance +=calcul_distance(list_of_points[cycle[i]], list_of_points[cycle[0]])\n",
    "        else:\n",
    "            distance +=calcul_distance(list_of_points[cycle[i]], list_of_points[cycle[i + 1]])\n",
    "    return distance"
   ]
  },
  {
   "cell_type": "markdown",
   "metadata": {},
   "source": [
    "# Algorithme 3"
   ]
  },
  {
   "cell_type": "markdown",
   "metadata": {},
   "source": [
    "        Implement an optimal algorithm. This solution is the best, but it is slow\n",
    "        first_point: label of the first point\n",
    "        list_of_points: dict of all the point, the key is the label, the value is a tuple (x, y)\n",
    "        return a list of point to visit, starting from first_point."
   ]
  },
  {
   "cell_type": "code",
   "execution_count": 34,
   "metadata": {},
   "outputs": [],
   "source": [
    "def optimal_algorithm(first_point, list_of_points):\n",
    "    distance_circuit = 10000\n",
    "    \n",
    "    \"on copie la liste de points\"\n",
    "    circuit= copy.copy(list_of_points)\n",
    "    \n",
    "    \"On retire le premier point de la permutation\"\n",
    "    del circuit[0]\n",
    "\n",
    "    \"calcul de toutes les possibilites de circuit \"\n",
    "    permutations=list(itertools.permutations(circuit)) \n",
    "\n",
    "    for circuit_permute in permutations:\n",
    "        \"on remet le premier point au circuit \"\n",
    "        circuit_permute=(first_point,) + circuit_permute \n",
    "        \n",
    "        if(calcul_circuit(list_of_points,circuit_permute)<=distance_circuit):\n",
    "            distance_circuit =calcul_circuit(list_of_points,circuit_permute)\n",
    "            circuitOptimal=circuit_permute\n",
    "\n",
    "    return list(circuitOptimal)"
   ]
  },
  {
   "cell_type": "markdown",
   "metadata": {},
   "source": [
    "# Essais"
   ]
  },
  {
   "cell_type": "code",
   "execution_count": 35,
   "metadata": {},
   "outputs": [],
   "source": [
    "def get_small_list_of_points():\n",
    "    list_of_points = {\n",
    "        0: (1, 3),\n",
    "        1: (6, 5),\n",
    "        2: (0, 6),\n",
    "        3: (6, 7),\n",
    "        4: (5,5), \n",
    "    }\n",
    "    return list_of_points"
   ]
  },
  {
   "cell_type": "code",
   "execution_count": 36,
   "metadata": {},
   "outputs": [],
   "source": [
    "def test_small_optimal_algorithm():\n",
    "    list_of_points = get_small_list_of_points()\n",
    "\n",
    "    first_point = 0\n",
    "    result = optimal_algorithm(first_point, list_of_points)\n",
    "    print(result)\n",
    "    assert len(result) == len(list_of_points)\n",
    "    assert result[0] == first_point"
   ]
  },
  {
   "cell_type": "code",
   "execution_count": 37,
   "metadata": {},
   "outputs": [
    {
     "name": "stdout",
     "output_type": "stream",
     "text": [
      "[0, 4, 1, 3, 2]\n"
     ]
    }
   ],
   "source": [
    "test_small_optimal_algorithm()"
   ]
  },
  {
   "cell_type": "code",
   "execution_count": null,
   "metadata": {},
   "outputs": [],
   "source": []
  },
  {
   "cell_type": "code",
   "execution_count": null,
   "metadata": {},
   "outputs": [],
   "source": []
  },
  {
   "cell_type": "code",
   "execution_count": null,
   "metadata": {},
   "outputs": [],
   "source": []
  }
 ],
 "metadata": {
  "kernelspec": {
   "display_name": "Python 3",
   "language": "python",
   "name": "python3"
  },
  "language_info": {
   "codemirror_mode": {
    "name": "ipython",
    "version": 3
   },
   "file_extension": ".py",
   "mimetype": "text/x-python",
   "name": "python",
   "nbconvert_exporter": "python",
   "pygments_lexer": "ipython3",
   "version": "3.7.4"
  }
 },
 "nbformat": 4,
 "nbformat_minor": 2
}
