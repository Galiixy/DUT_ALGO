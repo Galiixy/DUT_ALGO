{
 "cells": [
  {
   "cell_type": "markdown",
   "metadata": {},
   "source": [
    "# Librairies"
   ]
  },
  {
   "cell_type": "code",
   "execution_count": 21,
   "metadata": {},
   "outputs": [],
   "source": [
    "import math \n",
    "import copy\n",
    "import numpy as np\n",
    "import itertools"
   ]
  },
  {
   "cell_type": "markdown",
   "metadata": {},
   "source": [
    "# Fonctions Utiles"
   ]
  },
  {
   "cell_type": "markdown",
   "metadata": {},
   "source": [
    "### Calcul de distance \n",
    "        Calcul de distance entre deux points. \n",
    "        return a float"
   ]
  },
  {
   "cell_type": "code",
   "execution_count": 22,
   "metadata": {},
   "outputs": [],
   "source": [
    "def calcul_distance(first_point_value, second_point_value):\n",
    "    p0 = first_point_value\n",
    "    p1 = second_point_value\n",
    "    res = math.sqrt((p0[0] - p1[0])**2 + (p0[1] - p1[1])**2)\n",
    "    return res"
   ]
  },
  {
   "cell_type": "markdown",
   "metadata": {},
   "source": [
    "### Circuit length calculation\n",
    "        Cycle: Order of the point in the alogorithm (index of the points)\n",
    "        list_of_points: dict of all the point, the key is the label, the value is a tuple (x, y)\n",
    "        return a float, a circuit length"
   ]
  },
  {
   "cell_type": "code",
   "execution_count": 23,
   "metadata": {},
   "outputs": [],
   "source": [
    "def calcul_circuit(list_of_points, cycle):\n",
    "    distance = 0\n",
    "    i = 0\n",
    "    for i in range (len(cycle)):\n",
    "        \"si i est a la derniere case de cycle\"\n",
    "        if (i == (len(cycle) - 1)):\n",
    "            distance +=calcul_distance(list_of_points[cycle[i]], list_of_points[cycle[0]])\n",
    "        else:\n",
    "            distance +=calcul_distance(list_of_points[cycle[i]], list_of_points[cycle[i + 1]])\n",
    "    return distance"
   ]
  },
  {
   "cell_type": "markdown",
   "metadata": {},
   "source": [
    "### Algorithme de tri : MergeSort"
   ]
  },
  {
   "cell_type": "code",
   "execution_count": 24,
   "metadata": {},
   "outputs": [],
   "source": [
    "def Fusion(tab1,tab2):\n",
    "    n1=len(tab1) \n",
    "    n2= len(tab2)\n",
    "    n= n1+n2\n",
    "    j=1\n",
    "    k=1\n",
    "    tab=[0]*(n)\n",
    "    \n",
    "    for i in range(n):\n",
    "        if((j<=n1) and ((k>n2) or (tab1[j-1][1]<=tab2[k-1][1]))):\n",
    "            tab[i] = tab1[j-1]\n",
    "            j=j+1\n",
    "        else:\n",
    "            tab[i]=tab2[k-1]\n",
    "            k=k+1\n",
    "    return tab\n",
    "\n",
    "def MergeSort(tab):\n",
    "    'declaration'\n",
    "    longueurtab = len(tab)\n",
    "    n1 = round(longueurtab/2)\n",
    "    n2 = longueurtab-n1\n",
    "    \n",
    "    if (longueurtab==1):\n",
    "        return tab\n",
    "    else:\n",
    "        'declarations'\n",
    "        tab1=[0]*(n1)\n",
    "        tab2=[0]*(n2)\n",
    "\n",
    "        'traitement'\n",
    "        for i in range(n1):\n",
    "            tab1[i] =tab[i]\n",
    "            \n",
    "        for j in range(n2):\n",
    "            tab2[j]=tab[n1+j]\n",
    "            \n",
    "        tab1 = MergeSort(tab1)\n",
    "        tab2 = MergeSort(tab2)\n",
    "        \n",
    "        tab = Fusion(tab1, tab2)\n",
    "    return tab"
   ]
  },
  {
   "cell_type": "markdown",
   "metadata": {},
   "source": [
    "# Algorithme 1"
   ]
  },
  {
   "cell_type": "markdown",
   "metadata": {},
   "source": [
    "    Implement the nearest_neighbor algorithm.\n",
    "    first_point: label of the first point\n",
    "    list_of_points: dict of all the point, the key is the label, the value is a tuple (x, y)\n",
    "    return a list of point to visit, starting from first_point."
   ]
  },
  {
   "cell_type": "code",
   "execution_count": 25,
   "metadata": {},
   "outputs": [],
   "source": [
    "def nearest_neighbor_algorithm(first_point, list_of_points):\n",
    "    p0 = list_of_points[first_point]\n",
    "    unvisited = copy.copy(list_of_points)\n",
    "    del unvisited[first_point]\n",
    "    visited = list()\n",
    "    visited.append(first_point)\n",
    "    p = p0\n",
    "    while len(unvisited) != 0 :\n",
    "        res = [0]*(len(unvisited))\n",
    "        i = 0\n",
    "        for point in unvisited:\n",
    "            \"on recupere la liste des distance \"\n",
    "            \"res[i] = (point en question, distance par rapport a p)\"\n",
    "            res[i] = (point,  calcul_distance(p, unvisited[point]),unvisited[point])\n",
    "            i=i+1\n",
    "        \"tri sur le tuple les distance\"\n",
    "        res = MergeSort(res)\n",
    "        p = res[0]\n",
    "        visited.append(p[0])\n",
    "        del unvisited[p[0]]\n",
    "    return list(visited)"
   ]
  },
  {
   "cell_type": "markdown",
   "metadata": {},
   "source": [
    "# Algorithme 2"
   ]
  },
  {
   "cell_type": "markdown",
   "metadata": {},
   "source": [
    "Matrice qui contient l'index d'un point et les distances qui séparent ce point des autres points.\n",
    "\n",
    "[index, distancepoint1, distancepoint2]"
   ]
  },
  {
   "cell_type": "code",
   "execution_count": 130,
   "metadata": {},
   "outputs": [],
   "source": [
    "def get_MatriceDistance(first_point, list_of_points, matrice_distance, longueur):\n",
    "    #declaration\n",
    "    matrice_point=[0]*(longueur) #matrice des coordonnees des points, cela sert a la suppression\n",
    "    \n",
    "    pointReference=list_of_points[first_point]\n",
    "    points = copy.copy(list_of_points)\n",
    "   \n",
    "    del points[first_point] #on supprime le point de reference du tableau de points\n",
    "    matrice_distance[0][0] = first_point\n",
    "    \n",
    "    #Remplissage de la matrice des distances \n",
    "    for cpt_ligne in range(longueur): # print(matrice_point)\n",
    "        matrice_point[0]= list_of_points[cpt_ligne]\n",
    "        matrice_distance[cpt_ligne][0] = cpt_ligne\n",
    "        cpt_colonne = 1\n",
    "        for index_point in points:\n",
    "            matrice_distance[cpt_ligne][cpt_colonne] = (calcul_distance(pointReference, points[index_point]))\n",
    "            matrice_point[cpt_colonne]= points[index_point]\n",
    "            cpt_colonne = cpt_colonne + 1\n",
    "        points[longueur+cpt_ligne]=pointReference\n",
    "        pointReference=matrice_point[1]\n",
    "        del points[cpt_ligne+1]\n",
    "        \n",
    "    return matrice_distance"
   ]
  },
  {
   "cell_type": "markdown",
   "metadata": {},
   "source": [
    "        Implement a good algorithm to resolve the case.\n",
    "        first_point: label of the first point\n",
    "        list_of_points: dict of all the point, the key is the label, the value is a tuple (x, y)\n",
    "        return a list of point to visit, starting from first_point."
   ]
  },
  {
   "cell_type": "code",
   "execution_count": 163,
   "metadata": {},
   "outputs": [],
   "source": [
    "def great_algorithm(first_point, list_of_points):\n",
    "\n",
    "    #declaration\n",
    "    longueur=len(list_of_points)\n",
    "    matrice_distance = np.zeros((longueur,longueur))\n",
    "    ArbrePoidsMin = np.zeros((longueur,2))\n",
    "    distance_min = 100000\n",
    "    index_point=0\n",
    "    index_final =0\n",
    "    points = list()\n",
    "    \n",
    "    matrice_distance = get_MatriceDistance(first_point, list_of_points, matrice_distance, longueur)\n",
    "    \n",
    "    \"On détermine le point le plus eloigne du point de depart\"\n",
    "    distance_max=0\n",
    "    for cpt_colonne in range(1,longueur):\n",
    "        if(matrice_distance[first_point][cpt_colonne]>distance_max):\n",
    "            index_point = first_point+cpt_colonne\n",
    "            if(index_point >= longueur):\n",
    "                    index_point = index_point - longueur\n",
    "            distance_max= matrice_distance[first_point][cpt_colonne]\n",
    "    \n",
    "    \"On part du point de départ on va jusqu'au point le+ eloigne avec ce point , puis on fait au plus proche\"  \n",
    "    points.append(first_point)\n",
    "    points.append(index_point)\n",
    "\n",
    "    \n",
    "    while(len(points)!=longueur):\n",
    "        distance_min = 100000\n",
    "        index_min=0\n",
    "        \n",
    "        for cpt_colonne in range(1,longueur):\n",
    "            \n",
    "            index_min = index_point+cpt_colonne\n",
    "            \n",
    "            if(index_min >= longueur):\n",
    "                    index_min = index_min - longueur\n",
    "\n",
    "            if(len(points)==(longueur-1) and index_min not in points):\n",
    "                index_final=index_min\n",
    "                \n",
    "            if(matrice_distance[index_point][cpt_colonne]<distance_min and index_min not in points):\n",
    "                distance_min = matrice_distance[index_point][cpt_colonne]\n",
    "                index_final=index_min\n",
    "                \n",
    "            \n",
    "        points.append(index_final)\n",
    "        index_point = index_final\n",
    "    print(matrice_distance)\n",
    "    \"\"\"\n",
    "    print(calcul_circuit(list_of_points,points))\"\"\"\n",
    "    \n",
    "    \n",
    "    \n",
    "    return list(points)"
   ]
  },
  {
   "cell_type": "markdown",
   "metadata": {},
   "source": [
    "# Algorithme 3"
   ]
  },
  {
   "cell_type": "markdown",
   "metadata": {},
   "source": [
    "        Implement an optimal algorithm. This solution is the best, but it is slow\n",
    "        first_point: label of the first point\n",
    "        list_of_points: dict of all the point, the key is the label, the value is a tuple (x, y)\n",
    "        return a list of point to visit, starting from first_point."
   ]
  },
  {
   "cell_type": "code",
   "execution_count": 132,
   "metadata": {},
   "outputs": [],
   "source": [
    "def optimal_algorithm(first_point, list_of_points):\n",
    "    distance_circuit = 10000\n",
    "    \n",
    "    \"on copie la liste de points\"\n",
    "    circuit= copy.copy(list_of_points)\n",
    "    \n",
    "    \"On retire le premier point de la permutation\"\n",
    "    del circuit[0]\n",
    "\n",
    "    \"calcul de toutes les possibilites de circuit \"\n",
    "    permutations=list(itertools.permutations(circuit)) \n",
    "\n",
    "    for circuit_permute in permutations:\n",
    "        \"on remet le premier point au circuit \"\n",
    "        circuit_permute=(first_point,) + circuit_permute \n",
    "        \n",
    "        if(calcul_circuit(list_of_points,circuit_permute)<distance_circuit):\n",
    "            distance_circuit =calcul_circuit(list_of_points,circuit_permute)\n",
    "            circuitOptimal=circuit_permute\n",
    "\n",
    "    return list(circuitOptimal)"
   ]
  },
  {
   "cell_type": "markdown",
   "metadata": {},
   "source": [
    "# Tests"
   ]
  },
  {
   "cell_type": "markdown",
   "metadata": {},
   "source": [
    "### Jeu de données "
   ]
  },
  {
   "cell_type": "code",
   "execution_count": 29,
   "metadata": {},
   "outputs": [],
   "source": [
    "def get_small_list_of_points():\n",
    "    list_of_points = {\n",
    "        0: (1, 3),\n",
    "        1: (2, 5),\n",
    "        2: (0, 6),\n",
    "        3: (1, 7),\n",
    "        4: (5, 1),\n",
    "        5: (5, 5),\n",
    "        6: (6, 3),\n",
    "        7: (4, 4),\n",
    "        8: (7, 0),\n",
    "        9: (6, 6)\n",
    "    }\n",
    "    return list_of_points"
   ]
  },
  {
   "cell_type": "code",
   "execution_count": 30,
   "metadata": {},
   "outputs": [],
   "source": [
    "def get_tricky_points():\n",
    "    list_of_points = {\n",
    "        0: (0, 0),\n",
    "        1: (0, 1),\n",
    "        2: (0, 3),\n",
    "        3: (0, 11),\n",
    "        4: (0, -21),\n",
    "        5: (0, -5),\n",
    "        6: (0, -1),\n",
    "    }\n",
    "    return list_of_points"
   ]
  },
  {
   "cell_type": "markdown",
   "metadata": {},
   "source": [
    "### tests des fonctions utiles"
   ]
  },
  {
   "cell_type": "code",
   "execution_count": 31,
   "metadata": {},
   "outputs": [],
   "source": [
    "def test_calcul_distance():\n",
    "    a = (-3, -2)\n",
    "    b = (5, 2)\n",
    "\n",
    "    assert round(calcul_distance(a, b), 3) == 8.944"
   ]
  },
  {
   "cell_type": "code",
   "execution_count": 32,
   "metadata": {},
   "outputs": [],
   "source": [
    "def test_calcul_min_circuit():\n",
    "    a = (-3, -2)\n",
    "    b = (5, 2)\n",
    "    list_of_points = {'a': a, 'b': b}\n",
    "    cycle = ['a', 'b']\n",
    "\n",
    "    assert round(calcul_circuit(list_of_points, cycle), 3) == 17.889"
   ]
  },
  {
   "cell_type": "code",
   "execution_count": 33,
   "metadata": {},
   "outputs": [],
   "source": [
    "def test_calcul_circuit():\n",
    "    list_of_points = get_small_list_of_points()\n",
    "\n",
    "    cycle = list(list_of_points.keys())\n",
    "    distance = calcul_circuit(list_of_points, cycle)\n",
    "    assert round(distance, 3) == 38.483"
   ]
  },
  {
   "cell_type": "code",
   "execution_count": 34,
   "metadata": {},
   "outputs": [],
   "source": [
    "def test_return_sized():\n",
    "    list_of_points = get_small_list_of_points()\n",
    "\n",
    "    first_point = 0\n",
    "    result = nearest_neighbor_algorithm(first_point, list_of_points)\n",
    "    assert len(result) == 10\n",
    "    assert result[0] == first_point"
   ]
  },
  {
   "cell_type": "markdown",
   "metadata": {},
   "source": [
    "### tests des algorithmes "
   ]
  },
  {
   "cell_type": "code",
   "execution_count": 149,
   "metadata": {},
   "outputs": [],
   "source": [
    "def test_small_nearest_neighbor():\n",
    "    list_of_points = get_small_list_of_points()\n",
    "    first_point = 0\n",
    "    result = nearest_neighbor_algorithm(first_point, list_of_points)\n",
    "    print(result)\n",
    "    print(calcul_circuit(list_of_points, result))"
   ]
  },
  {
   "cell_type": "code",
   "execution_count": 140,
   "metadata": {},
   "outputs": [],
   "source": [
    "def test_small_better_algorithm():\n",
    "    list_of_points = get_small_list_of_points()\n",
    "\n",
    "    first_point = 0\n",
    "    result = great_algorithm(first_point, list_of_points)\n",
    "    print(result)\n",
    "    print(calcul_circuit(list_of_points, result))\n",
    "    assert len(result) == 10\n",
    "    assert result[0] == first_point"
   ]
  },
  {
   "cell_type": "code",
   "execution_count": 155,
   "metadata": {},
   "outputs": [],
   "source": [
    "def test_small_optimal_algorithm():\n",
    "    list_of_points = get_small_list_of_points()\n",
    "\n",
    "    first_point = 0\n",
    "    result = optimal_algorithm(first_point, list_of_points)\n",
    "    print(calcul_circuit(list_of_points, result))\n",
    "    assert len(result) == 10\n",
    "    assert result[0] == first_point\n",
    "    circuit_cost = calcul_circuit(list_of_points, result)\n",
    "    assert round(circuit_cost) <= 27\n",
    "    assert round(circuit_cost, 2) == 24.75\n",
    "    print(result)\n",
    "    assert result == [0, 2, 3, 1, 7, 5, 9, 6, 8, 4]"
   ]
  },
  {
   "cell_type": "code",
   "execution_count": 142,
   "metadata": {},
   "outputs": [],
   "source": [
    "def test_tricky_nearest_neighbor():\n",
    "    list_of_points = get_tricky_points()\n",
    "\n",
    "    first_point = 0\n",
    "    result = nearest_neighbor_algorithm(first_point, list_of_points)\n",
    "    print(result)\n",
    "    print(calcul_circuit(list_of_points, result))\n",
    "    assert len(result) == 7\n",
    "    assert result[0] == first_point\n",
    "    assert round(calcul_circuit(list_of_points, result)) <= 80"
   ]
  },
  {
   "cell_type": "code",
   "execution_count": 143,
   "metadata": {},
   "outputs": [],
   "source": [
    "def test_tricky_better_algorithm():\n",
    "    list_of_points = get_tricky_points()\n",
    "\n",
    "    first_point = 0\n",
    "    result = great_algorithm(first_point, list_of_points)\n",
    "    print(result)\n",
    "    print(calcul_circuit(list_of_points, result))\n",
    "    assert len(result) == 7\n",
    "    assert result[0] == first_point\n",
    "    assert round(calcul_circuit(list_of_points, result)) < 80"
   ]
  },
  {
   "cell_type": "code",
   "execution_count": 144,
   "metadata": {},
   "outputs": [],
   "source": [
    "def test_tricky_optimal_algorithm():\n",
    "    list_of_points = get_tricky_points()\n",
    "\n",
    "    first_point = 0\n",
    "    result = optimal_algorithm(first_point, list_of_points)\n",
    "    print(result)\n",
    "    print(calcul_circuit(list_of_points, result))\n",
    "    assert len(result) == 7\n",
    "    assert result[0] == first_point\n",
    "    assert round(calcul_circuit(list_of_points, result)) == 64"
   ]
  },
  {
   "cell_type": "code",
   "execution_count": 166,
   "metadata": {},
   "outputs": [
    {
     "name": "stdout",
     "output_type": "stream",
     "text": [
      "[0, 1, 7, 6, 4, 8, 9, 5, 3, 2]\n",
      "27.725943157711317\n",
      "[[0.         2.23606798 3.16227766 4.         4.47213595 4.47213595\n",
      "  5.         3.16227766 6.70820393 5.83095189]\n",
      " [1.         2.23606798 2.23606798 5.         3.         4.47213595\n",
      "  2.23606798 7.07106781 4.12310563 2.23606798]\n",
      " [2.         1.41421356 7.07106781 5.09901951 6.70820393 4.47213595\n",
      "  9.21954446 6.         3.16227766 2.23606798]\n",
      " [3.         7.21110255 4.47213595 6.40312424 4.24264069 9.21954446\n",
      "  5.09901951 4.         2.23606798 1.41421356]\n",
      " [4.         4.         2.23606798 3.16227766 2.23606798 5.09901951\n",
      "  4.47213595 5.         7.07106781 7.21110255]\n",
      " [5.         2.23606798 1.41421356 5.38516481 1.41421356 4.47213595\n",
      "  3.         5.09901951 4.47213595 4.        ]\n",
      " [6.         2.23606798 3.16227766 3.         5.         4.47213595\n",
      "  6.70820393 6.40312424 2.23606798 2.23606798]\n",
      " [7.         5.         2.82842712 3.16227766 2.23606798 4.47213595\n",
      "  4.24264069 3.16227766 1.41421356 2.23606798]\n",
      " [8.         6.08276253 6.70820393 7.07106781 9.21954446 9.21954446\n",
      "  2.23606798 5.38516481 3.16227766 5.        ]\n",
      " [9.         5.83095189 4.12310563 6.         5.09901951 5.09901951\n",
      "  1.41421356 3.         2.82842712 6.08276253]]\n",
      "[0, 8, 4, 6, 7, 5, 9, 1, 2, 3]\n",
      "28.018222155235478\n",
      "24.747535894954993\n",
      "[0, 2, 3, 1, 7, 5, 9, 6, 8, 4]\n"
     ]
    }
   ],
   "source": [
    "test_small_nearest_neighbor()\n",
    "test_small_better_algorithm()\n",
    "test_small_optimal_algorithm()"
   ]
  },
  {
   "cell_type": "code",
   "execution_count": 165,
   "metadata": {},
   "outputs": [
    {
     "name": "stdout",
     "output_type": "stream",
     "text": [
      "[0, 1, 2, 6, 3, 5, 4]\n",
      "72.0\n",
      "[[ 0.  1.  3. 11. 21.  5.  1.]\n",
      " [ 1.  2. 10. 22.  6.  2.  1.]\n",
      " [ 2.  8. 24.  8.  4.  3.  2.]\n",
      " [ 3. 32. 16. 12. 11. 10.  8.]\n",
      " [ 4. 16. 20. 21. 22. 24. 32.]\n",
      " [ 5.  4.  5.  6.  8. 16. 16.]\n",
      " [ 6.  1.  2.  4. 12. 20.  4.]]\n",
      "[0, 4, 5, 6, 1, 2, 3]\n",
      "64.0\n",
      "[0, 1, 2, 3, 4, 5, 6]\n",
      "64.0\n"
     ]
    }
   ],
   "source": [
    "test_tricky_nearest_neighbor()\n",
    "test_tricky_better_algorithm()\n",
    "test_tricky_optimal_algorithm()"
   ]
  },
  {
   "cell_type": "code",
   "execution_count": null,
   "metadata": {},
   "outputs": [],
   "source": []
  },
  {
   "cell_type": "code",
   "execution_count": null,
   "metadata": {},
   "outputs": [],
   "source": []
  },
  {
   "cell_type": "code",
   "execution_count": null,
   "metadata": {},
   "outputs": [],
   "source": []
  },
  {
   "cell_type": "code",
   "execution_count": null,
   "metadata": {},
   "outputs": [],
   "source": []
  }
 ],
 "metadata": {
  "kernelspec": {
   "display_name": "Python 3",
   "language": "python",
   "name": "python3"
  },
  "language_info": {
   "codemirror_mode": {
    "name": "ipython",
    "version": 3
   },
   "file_extension": ".py",
   "mimetype": "text/x-python",
   "name": "python",
   "nbconvert_exporter": "python",
   "pygments_lexer": "ipython3",
   "version": "3.7.4"
  }
 },
 "nbformat": 4,
 "nbformat_minor": 2
}
